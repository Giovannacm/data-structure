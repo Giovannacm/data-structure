{
  "nbformat": 4,
  "nbformat_minor": 0,
  "metadata": {
    "colab": {
      "provenance": [],
      "collapsed_sections": [
        "CYASDn1LVdnC",
        "yfIFZR_9VjRM",
        "Vioadtq0i0O5",
        "O-Mo-KxDHPYp",
        "fAPsfd6cFzI4",
        "p4WDO-ucMUSu",
        "zAEBsNqAQAFY",
        "j6C6leQ4IB5S",
        "oo-hK0yhPjZj",
        "kX82jf_dYoJI",
        "o9e6Eoe6IXLP",
        "ZWjbOfrNH_EM",
        "B0E3AlUAZ18f",
        "oydQE6IWg0qX",
        "_yArBECxXfT-",
        "xP6A6bRijqor",
        "-1EhWBySHT2s",
        "rxY7l0PbkMl6"
      ],
      "toc_visible": true,
      "authorship_tag": "ABX9TyNj+JmHQ6Lm0Ai+MZ8Q8/7J",
      "include_colab_link": true
    },
    "kernelspec": {
      "name": "python3",
      "display_name": "Python 3"
    },
    "language_info": {
      "name": "python"
    }
  },
  "cells": [
    {
      "cell_type": "markdown",
      "metadata": {
        "id": "view-in-github",
        "colab_type": "text"
      },
      "source": [
        "<a href=\"https://colab.research.google.com/github/Giovannacm/data-structure/blob/main/InterviewQuestions.ipynb\" target=\"_parent\"><img src=\"https://colab.research.google.com/assets/colab-badge.svg\" alt=\"Open In Colab\"/></a>"
      ]
    },
    {
      "cell_type": "markdown",
      "source": [
        "# Binary tree"
      ],
      "metadata": {
        "id": "CYASDn1LVdnC"
      }
    },
    {
      "cell_type": "code",
      "execution_count": null,
      "metadata": {
        "id": "yYwRQS25jB9L"
      },
      "outputs": [],
      "source": [
        "class Node:\n",
        "   def __init__(self, data):\n",
        "      self.left = None\n",
        "      self.right = None\n",
        "      self.data = data"
      ]
    },
    {
      "cell_type": "code",
      "source": [
        "def insert(root, data):\n",
        "  if data < root.data:\n",
        "    if root.left is None:\n",
        "      root.left = Node(data)\n",
        "    else:\n",
        "      insert(root.left, data)\n",
        "  elif data > root.data:\n",
        "    if root.right is None:\n",
        "      root.right = Node(data)\n",
        "    else:\n",
        "      insert(root.right, data)"
      ],
      "metadata": {
        "id": "Rd1uKj6usKGh"
      },
      "execution_count": null,
      "outputs": []
    },
    {
      "cell_type": "code",
      "source": [
        "def inOrderPath(tree):\n",
        "  if tree != None:\n",
        "    inOrderPath(tree.left)\n",
        "    print(tree.data)\n",
        "    inOrderPath(tree.right)"
      ],
      "metadata": {
        "id": "0UA-SK6iWQms"
      },
      "execution_count": null,
      "outputs": []
    },
    {
      "cell_type": "code",
      "source": [
        "def inOrderPath_it(root):\n",
        "    stack = []\n",
        "    out = []\n",
        "    aux = root\n",
        "    while 1:\n",
        "        if aux != None:\n",
        "            stack.append(aux)\n",
        "            aux = aux.left\n",
        "        else:\n",
        "            if len(stack) == 0:\n",
        "                return out\n",
        "            aux = stack.pop()\n",
        "            out.append(aux.data)\n",
        "            aux = aux.right"
      ],
      "metadata": {
        "id": "aF9kUYaiWbii"
      },
      "execution_count": null,
      "outputs": []
    },
    {
      "cell_type": "code",
      "source": [
        "TreeRoot = Node(10)\n",
        "\n",
        "insert(TreeRoot, 5)\n",
        "insert(TreeRoot, 19)\n",
        "\n",
        "insert(TreeRoot, 1)\n",
        "insert(TreeRoot, 6)\n",
        "insert(TreeRoot, 17)\n",
        "insert(TreeRoot, 21)"
      ],
      "metadata": {
        "id": "G3I6tEnwsahQ"
      },
      "execution_count": null,
      "outputs": []
    },
    {
      "cell_type": "code",
      "source": [
        "inOrderPath(TreeRoot)"
      ],
      "metadata": {
        "colab": {
          "base_uri": "https://localhost:8080/"
        },
        "id": "4vEHpkiFVK11",
        "outputId": "eca4565f-95be-4ede-831f-544eb33be31c"
      },
      "execution_count": null,
      "outputs": [
        {
          "output_type": "stream",
          "name": "stdout",
          "text": [
            "1\n",
            "5\n",
            "6\n",
            "10\n",
            "17\n",
            "19\n",
            "21\n"
          ]
        }
      ]
    },
    {
      "cell_type": "code",
      "source": [
        "inOrderPath_it(TreeRoot)"
      ],
      "metadata": {
        "colab": {
          "base_uri": "https://localhost:8080/"
        },
        "id": "tHtp4GopWqoQ",
        "outputId": "a1173f61-ed30-4a91-dd35-9c0454d2152c"
      },
      "execution_count": null,
      "outputs": [
        {
          "output_type": "execute_result",
          "data": {
            "text/plain": [
              "[1, 5, 6, 10, 17, 19, 21]"
            ]
          },
          "metadata": {},
          "execution_count": 36
        }
      ]
    },
    {
      "cell_type": "markdown",
      "source": [
        "# Stack"
      ],
      "metadata": {
        "id": "yfIFZR_9VjRM"
      }
    },
    {
      "cell_type": "code",
      "source": [
        "def check_expression(expression):\n",
        "  stack = []\n",
        "  \n",
        "  for item in expression:\n",
        "    if item == '(':\n",
        "      stack.append(item)\n",
        "    elif item == ')':\n",
        "      if len(stack) == 0:\n",
        "        return False\n",
        "      else:\n",
        "        stack.pop()\n",
        "\n",
        "  if len(stack) == 0:\n",
        "    return True\n",
        "  return False"
      ],
      "metadata": {
        "id": "zT8hqz6KXO7O"
      },
      "execution_count": null,
      "outputs": []
    },
    {
      "cell_type": "code",
      "source": [
        "check_expression('()()')"
      ],
      "metadata": {
        "colab": {
          "base_uri": "https://localhost:8080/"
        },
        "id": "zhXEKqyvaSvV",
        "outputId": "7ec5d72e-ce05-43c6-c83a-83ca2d57acbc"
      },
      "execution_count": null,
      "outputs": [
        {
          "output_type": "stream",
          "name": "stdout",
          "text": [
            "True\n"
          ]
        }
      ]
    },
    {
      "cell_type": "code",
      "source": [
        "check_expression('(()()')"
      ],
      "metadata": {
        "colab": {
          "base_uri": "https://localhost:8080/"
        },
        "id": "Hn9M7-RkafO9",
        "outputId": "13ff5453-1f35-42b1-915a-0d820c2f0d64"
      },
      "execution_count": null,
      "outputs": [
        {
          "output_type": "stream",
          "name": "stdout",
          "text": [
            "False\n"
          ]
        }
      ]
    },
    {
      "cell_type": "code",
      "source": [
        "check_expression('()(()')"
      ],
      "metadata": {
        "colab": {
          "base_uri": "https://localhost:8080/"
        },
        "id": "1GmoZIS4ajOa",
        "outputId": "3c4e1e83-6cd4-4304-aaf9-9147ee0e8a37"
      },
      "execution_count": null,
      "outputs": [
        {
          "output_type": "execute_result",
          "data": {
            "text/plain": [
              "False"
            ]
          },
          "metadata": {},
          "execution_count": 19
        }
      ]
    },
    {
      "cell_type": "code",
      "source": [
        "check_expression('())()')"
      ],
      "metadata": {
        "colab": {
          "base_uri": "https://localhost:8080/"
        },
        "id": "Zpl54kNWaoFj",
        "outputId": "4f735a69-a2c8-483b-bf14-df0fbf228f44"
      },
      "execution_count": null,
      "outputs": [
        {
          "output_type": "stream",
          "name": "stdout",
          "text": [
            "False\n"
          ]
        }
      ]
    },
    {
      "cell_type": "code",
      "source": [
        "def check_expression_2(expression):\n",
        "  stack = []\n",
        "  \n",
        "  for item in expression:\n",
        "    if item in '([{':\n",
        "      stack.append(item)\n",
        "    elif item in ')]}':\n",
        "      if len(stack) == 0:\n",
        "        return False\n",
        "      else:\n",
        "        top = stack.pop()\n",
        "\n",
        "        if (top == '(' and item != ')') or (top == '[' and item != ']') or (top == '{' and item != '}'):\n",
        "          return False\n",
        "\n",
        "  if len(stack) == 0:\n",
        "    return True\n",
        "  return False"
      ],
      "metadata": {
        "id": "q98lcq8ebG_y"
      },
      "execution_count": null,
      "outputs": []
    },
    {
      "cell_type": "code",
      "source": [
        "check_expression_2('{[()()]}')"
      ],
      "metadata": {
        "colab": {
          "base_uri": "https://localhost:8080/"
        },
        "id": "gjYj6KGBbKSb",
        "outputId": "ee642717-a746-42f0-93aa-50ec8060cfee"
      },
      "execution_count": null,
      "outputs": [
        {
          "output_type": "execute_result",
          "data": {
            "text/plain": [
              "True"
            ]
          },
          "metadata": {},
          "execution_count": 20
        }
      ]
    },
    {
      "cell_type": "code",
      "source": [
        "check_expression_2('{[(}[})]}')"
      ],
      "metadata": {
        "colab": {
          "base_uri": "https://localhost:8080/"
        },
        "id": "8IDemsUrcth8",
        "outputId": "cbd361c7-c32c-494d-a951-2bdc7bed4525"
      },
      "execution_count": null,
      "outputs": [
        {
          "output_type": "execute_result",
          "data": {
            "text/plain": [
              "False"
            ]
          },
          "metadata": {},
          "execution_count": 21
        }
      ]
    },
    {
      "cell_type": "code",
      "source": [
        "def decimal_to_binary(number):\n",
        "  stack = ''\n",
        "\n",
        "  while number != 0:\n",
        "    num, den = number//2, number%2\n",
        "    stack += str(den)\n",
        "    number = num\n",
        "\n",
        "  return stack[::-1]"
      ],
      "metadata": {
        "id": "dKibe1aEdw41"
      },
      "execution_count": null,
      "outputs": []
    },
    {
      "cell_type": "code",
      "source": [
        "decimal_to_binary(10)"
      ],
      "metadata": {
        "colab": {
          "base_uri": "https://localhost:8080/",
          "height": 36
        },
        "id": "VM7Err6NfY_q",
        "outputId": "e9d55fc3-e617-43d0-8161-f1631aeb4ba2"
      },
      "execution_count": null,
      "outputs": [
        {
          "output_type": "execute_result",
          "data": {
            "text/plain": [
              "'1010'"
            ],
            "application/vnd.google.colaboratory.intrinsic+json": {
              "type": "string"
            }
          },
          "metadata": {},
          "execution_count": 30
        }
      ]
    },
    {
      "cell_type": "code",
      "source": [
        "decimal_to_binary(16)"
      ],
      "metadata": {
        "colab": {
          "base_uri": "https://localhost:8080/",
          "height": 36
        },
        "id": "p_0euWvKfcK4",
        "outputId": "c38d77e8-c85a-41af-b04d-4105c79e0043"
      },
      "execution_count": null,
      "outputs": [
        {
          "output_type": "execute_result",
          "data": {
            "text/plain": [
              "'10000'"
            ],
            "application/vnd.google.colaboratory.intrinsic+json": {
              "type": "string"
            }
          },
          "metadata": {},
          "execution_count": 33
        }
      ]
    },
    {
      "cell_type": "markdown",
      "source": [
        "Escreva uma função para determinar se uma cadeia de caracteres (string) é da forma xCy, onde x e y são cadeias de caracteres compostas por letras 'A' e 'B', e y é o inverso de x. Se x = 'ABABBA', então y = 'ABBABA'. Em cada ponto, você só pode ler o próximo caractere da cadeia."
      ],
      "metadata": {
        "id": "FBGzCA_hgrwa"
      }
    },
    {
      "cell_type": "code",
      "source": [
        "def check_string_format(string):\n",
        "  stack = []\n",
        "  middle = False\n",
        "\n",
        "  for char in string:\n",
        "    if char != 'C' and not middle:\n",
        "      stack.append(char)\n",
        "    elif char == 'C':\n",
        "      middle = True\n",
        "    else:\n",
        "      top = stack.pop()\n",
        "      if char != top:\n",
        "        return False\n",
        "\n",
        "  return True"
      ],
      "metadata": {
        "id": "bvEL0bShgNPR"
      },
      "execution_count": null,
      "outputs": []
    },
    {
      "cell_type": "code",
      "source": [
        "check_string_format('ABABBACABBABA')"
      ],
      "metadata": {
        "colab": {
          "base_uri": "https://localhost:8080/"
        },
        "id": "NbgoyfCMiR32",
        "outputId": "defd12c6-7aa4-47f4-c6fd-b5d9a2428f11"
      },
      "execution_count": null,
      "outputs": [
        {
          "output_type": "execute_result",
          "data": {
            "text/plain": [
              "True"
            ]
          },
          "metadata": {},
          "execution_count": 37
        }
      ]
    },
    {
      "cell_type": "code",
      "source": [
        "check_string_format('ABAABACABBABA')"
      ],
      "metadata": {
        "colab": {
          "base_uri": "https://localhost:8080/"
        },
        "id": "7pCYrjzxiWun",
        "outputId": "12906f6a-ec7a-4363-e103-b7b38b5c7874"
      },
      "execution_count": null,
      "outputs": [
        {
          "output_type": "execute_result",
          "data": {
            "text/plain": [
              "False"
            ]
          },
          "metadata": {},
          "execution_count": 38
        }
      ]
    },
    {
      "cell_type": "markdown",
      "source": [
        "# List"
      ],
      "metadata": {
        "id": "Vioadtq0i0O5"
      }
    },
    {
      "cell_type": "code",
      "source": [
        "def is_palindrome(string):\n",
        "  size = len(string)\n",
        "  middle = int(size / 2)\n",
        "\n",
        "  for i in range(0, middle):\n",
        "    if string[i] != string[size-i-1]:\n",
        "      return False\n",
        "\n",
        "  return True"
      ],
      "metadata": {
        "id": "Gjq-o6gnikSx"
      },
      "execution_count": null,
      "outputs": []
    },
    {
      "cell_type": "code",
      "source": [
        "is_palindrome('arara')"
      ],
      "metadata": {
        "colab": {
          "base_uri": "https://localhost:8080/"
        },
        "id": "j9kyQjZXkQz8",
        "outputId": "34489e1a-e987-4ac2-eac8-507eee808989"
      },
      "execution_count": null,
      "outputs": [
        {
          "output_type": "execute_result",
          "data": {
            "text/plain": [
              "True"
            ]
          },
          "metadata": {},
          "execution_count": 44
        }
      ]
    },
    {
      "cell_type": "code",
      "source": [
        "is_palindrome('banana')"
      ],
      "metadata": {
        "colab": {
          "base_uri": "https://localhost:8080/"
        },
        "id": "w8FsSNrbkUGL",
        "outputId": "5ecb85a1-7eed-43e3-f9a5-7bf39c38ef4d"
      },
      "execution_count": null,
      "outputs": [
        {
          "output_type": "execute_result",
          "data": {
            "text/plain": [
              "False"
            ]
          },
          "metadata": {},
          "execution_count": 45
        }
      ]
    },
    {
      "cell_type": "markdown",
      "source": [
        "# LeetCode"
      ],
      "metadata": {
        "id": "CCYKMPyKty55"
      }
    },
    {
      "cell_type": "markdown",
      "source": [
        "## 1. Two Sum"
      ],
      "metadata": {
        "id": "O-Mo-KxDHPYp"
      }
    },
    {
      "cell_type": "markdown",
      "source": [
        "Given an array of integers nums and an integer target, return indices of the two numbers such that they add up to target.\n",
        "\n",
        "You may assume that each input would have exactly one solution, and you may not use the same element twice.\n",
        "\n",
        "You can return the answer in any order."
      ],
      "metadata": {
        "id": "8O5GYn6Pt4AT"
      }
    },
    {
      "cell_type": "markdown",
      "source": [
        "Input: nums = [3,2,4], target = 6\n",
        "Output: [1,2]"
      ],
      "metadata": {
        "id": "YtAd87WVt7wc"
      }
    },
    {
      "cell_type": "code",
      "source": [
        "def twoSum(nums, target):\n",
        "    length = len(nums)\n",
        "    diff_nums = {}\n",
        "    \n",
        "    for i_fst in range(length):\n",
        "        diff = target - nums[i_fst]\n",
        "        \n",
        "        if diff in diff_nums:\n",
        "            return [i_fst, diff_nums[diff]]\n",
        "        \n",
        "        diff_nums[nums[i_fst]] = i_fst\n",
        "    \n",
        "    return []"
      ],
      "metadata": {
        "id": "aswYe9M9t0Ll"
      },
      "execution_count": null,
      "outputs": []
    },
    {
      "cell_type": "code",
      "source": [
        "def twoSum(nums, target):\n",
        "    solution = None\n",
        "    remainder = {}\n",
        "    size = len(nums)\n",
        "\n",
        "    for i in range(0, size):\n",
        "        num = nums[i]\n",
        "        sub = target - num\n",
        "\n",
        "        if sub in remainder:\n",
        "            value, index = remainder[sub]\n",
        "            solution = [i, index]\n",
        "        else:\n",
        "            remainder[num] = [sub, i]\n",
        "\n",
        "    return solution"
      ],
      "metadata": {
        "id": "ybAaEhtQvM5Q"
      },
      "execution_count": null,
      "outputs": []
    },
    {
      "cell_type": "code",
      "source": [
        "twoSum([4,2,9,5,7,1], 10)"
      ],
      "metadata": {
        "colab": {
          "base_uri": "https://localhost:8080/"
        },
        "id": "HHEoa9gGt-mD",
        "outputId": "4f123be5-2df0-4f6d-e16e-9b8091ab935e"
      },
      "execution_count": null,
      "outputs": [
        {
          "output_type": "execute_result",
          "data": {
            "text/plain": [
              "[5, 2]"
            ]
          },
          "metadata": {},
          "execution_count": 9
        }
      ]
    },
    {
      "cell_type": "markdown",
      "source": [
        "## 2. Add Two Numbers\n"
      ],
      "metadata": {
        "id": "fAPsfd6cFzI4"
      }
    },
    {
      "cell_type": "markdown",
      "source": [
        "You are given two non-empty linked lists representing two non-negative integers. The digits are stored in reverse order, and each of their nodes contains a single digit. Add the two numbers and return the sum as a linked list.\n",
        "\n",
        "You may assume the two numbers do not contain any leading zero, except the number 0 itself."
      ],
      "metadata": {
        "id": "4Tp3jcZuF7z6"
      }
    },
    {
      "cell_type": "code",
      "source": [
        "class ListNode(object):\n",
        "    def __init__(self, val=0, next=None):\n",
        "        self.val = val\n",
        "        self.next = next"
      ],
      "metadata": {
        "id": "WNTlhn8yGS8r"
      },
      "execution_count": 20,
      "outputs": []
    },
    {
      "cell_type": "code",
      "source": [
        "def addTwoNumbers(l1, l2):\n",
        "    pointer_1 = l1\n",
        "    multiplier = 1\n",
        "    val_1 = 0\n",
        "    while pointer_1 != None:\n",
        "        val_1 += pointer_1.val * multiplier\n",
        "        multiplier *= 10\n",
        "        pointer_1 = pointer_1.next\n",
        "        \n",
        "    pointer_2 = l2\n",
        "    multiplier = 1\n",
        "    val_2 = 0\n",
        "    while pointer_2 != None:\n",
        "        val_2 += pointer_2.val * multiplier\n",
        "        multiplier *= 10\n",
        "        pointer_2 = pointer_2.next\n",
        "    \n",
        "    val_3 = val_1 + val_2\n",
        "    l3 = ListNode(val_3 % 10, None)\n",
        "    val_3 //= 10\n",
        "    pointer_3 = l3\n",
        "    while val_3 != 0:\n",
        "        node = ListNode(val_3 % 10, None)\n",
        "        val_3 //= 10\n",
        "        pointer_3.next = node\n",
        "        pointer_3 = node\n",
        "    \n",
        "    return l3"
      ],
      "metadata": {
        "id": "MBZ6GPm4B-RL"
      },
      "execution_count": 26,
      "outputs": []
    },
    {
      "cell_type": "code",
      "source": [
        "list1 = ListNode(2, ListNode(4, ListNode(3, None)))\n",
        "list2 = ListNode(5, ListNode(6, ListNode(4, None)))\n",
        "list3 = addTwoNumbers(list1, list2)\n",
        "pointer = list3\n",
        "while pointer != None:\n",
        "  print(pointer.val, end=' ')\n",
        "  pointer = pointer.next"
      ],
      "metadata": {
        "colab": {
          "base_uri": "https://localhost:8080/"
        },
        "id": "SfrCKEi6F2fw",
        "outputId": "67abb1ae-2f98-45f8-b35d-fd274e6bb2d5"
      },
      "execution_count": 27,
      "outputs": [
        {
          "output_type": "stream",
          "name": "stdout",
          "text": [
            "7 0 8 "
          ]
        }
      ]
    },
    {
      "cell_type": "markdown",
      "source": [
        "## 3. Longest Substring Without Repeating Characters\n"
      ],
      "metadata": {
        "id": "p4WDO-ucMUSu"
      }
    },
    {
      "cell_type": "markdown",
      "source": [
        "Given a string s, find the length of the longest \n",
        "substring\n",
        " without repeating characters."
      ],
      "metadata": {
        "id": "J5cDukMRMXg8"
      }
    },
    {
      "cell_type": "code",
      "source": [
        "def lengthOfLongestSubstring(s):\n",
        "    occurrence = {}\n",
        "    longest = 0\n",
        "    j = 0\n",
        "    size = len(s)\n",
        "    for i in range(size):\n",
        "        c = s[i]\n",
        "        if c in occurrence:\n",
        "            j = max(occurrence[c], j)\n",
        "        longest = max(longest, i - j + 1)\n",
        "        occurrence[c] = i+1\n",
        "\n",
        "    return longest"
      ],
      "metadata": {
        "id": "2uI9a8_kMVRu"
      },
      "execution_count": 35,
      "outputs": []
    },
    {
      "cell_type": "code",
      "source": [
        "lengthOfLongestSubstring(\"abcabcbb\")"
      ],
      "metadata": {
        "colab": {
          "base_uri": "https://localhost:8080/"
        },
        "id": "E8LABaODMc1P",
        "outputId": "629262a6-50ae-494d-9985-352623e51e18"
      },
      "execution_count": 36,
      "outputs": [
        {
          "output_type": "execute_result",
          "data": {
            "text/plain": [
              "3"
            ]
          },
          "metadata": {},
          "execution_count": 36
        }
      ]
    },
    {
      "cell_type": "code",
      "source": [
        "lengthOfLongestSubstring(\"bbbbb\")"
      ],
      "metadata": {
        "colab": {
          "base_uri": "https://localhost:8080/"
        },
        "id": "AFBsENOQMhkL",
        "outputId": "6ce9c3e4-5835-4613-c123-6b87a5a48bb0"
      },
      "execution_count": 37,
      "outputs": [
        {
          "output_type": "execute_result",
          "data": {
            "text/plain": [
              "1"
            ]
          },
          "metadata": {},
          "execution_count": 37
        }
      ]
    },
    {
      "cell_type": "code",
      "source": [
        "lengthOfLongestSubstring(\"pwwkew\")"
      ],
      "metadata": {
        "colab": {
          "base_uri": "https://localhost:8080/"
        },
        "id": "q8Hju-OYMkS6",
        "outputId": "0abe1293-4bc1-4252-de13-a8299009069c"
      },
      "execution_count": 38,
      "outputs": [
        {
          "output_type": "execute_result",
          "data": {
            "text/plain": [
              "3"
            ]
          },
          "metadata": {},
          "execution_count": 38
        }
      ]
    },
    {
      "cell_type": "markdown",
      "source": [
        "## 4. Median of Two Sorted Arrays\n"
      ],
      "metadata": {
        "id": "zAEBsNqAQAFY"
      }
    },
    {
      "cell_type": "markdown",
      "source": [
        "Given two sorted arrays nums1 and nums2 of size m and n respectively, return the median of the two sorted arrays.\n",
        "\n",
        "The overall run time complexity should be O(log (m+n))."
      ],
      "metadata": {
        "id": "NorSg8RcQD4X"
      }
    },
    {
      "cell_type": "code",
      "source": [
        "def mergeArrays(nums1, nums2):\n",
        "    index1, index2 = 0, 0\n",
        "    len1, len2 = len(nums1), len(nums2)\n",
        "    merged = []\n",
        "\n",
        "    while index1 < len1 and index2 < len2:\n",
        "        if nums1[index1] < nums2[index2]:\n",
        "            merged.append(nums1[index1])\n",
        "            index1 += 1\n",
        "        else:\n",
        "            merged.append(nums2[index2])\n",
        "            index2 += 1\n",
        "    \n",
        "    while index1 < len1:\n",
        "        merged.append(nums1[index1])\n",
        "        index1 += 1\n",
        "    while index2 < len2:\n",
        "        merged.append(nums2[index2])\n",
        "        index2 += 1\n",
        "\n",
        "    return merged\n",
        "\n",
        "def findMedianSortedArrays(nums1, nums2):\n",
        "    nums_merged = mergeArrays(nums1, nums2)\n",
        "    len_merged = len(nums_merged)\n",
        "    middle = len_merged // 2\n",
        "    return nums_merged[middle] if len_merged % 2 != 0 else (nums_merged[middle-1] + nums_merged[middle]) / 2"
      ],
      "metadata": {
        "id": "ZTiXdwxxQBJu"
      },
      "execution_count": 53,
      "outputs": []
    },
    {
      "cell_type": "code",
      "source": [
        "findMedianSortedArrays([1,2], [3,4])"
      ],
      "metadata": {
        "colab": {
          "base_uri": "https://localhost:8080/"
        },
        "id": "Ov-edGp0QKGy",
        "outputId": "50c93fa8-78ec-4ce2-c978-3ae7941d4b60"
      },
      "execution_count": 54,
      "outputs": [
        {
          "output_type": "execute_result",
          "data": {
            "text/plain": [
              "2.5"
            ]
          },
          "metadata": {},
          "execution_count": 54
        }
      ]
    },
    {
      "cell_type": "code",
      "source": [
        "findMedianSortedArrays([1,3], [2])"
      ],
      "metadata": {
        "colab": {
          "base_uri": "https://localhost:8080/"
        },
        "id": "Tf8Ks4LJRUU7",
        "outputId": "62097f52-931d-4ff1-d209-ea5710f5ce61"
      },
      "execution_count": 55,
      "outputs": [
        {
          "output_type": "execute_result",
          "data": {
            "text/plain": [
              "2"
            ]
          },
          "metadata": {},
          "execution_count": 55
        }
      ]
    },
    {
      "cell_type": "markdown",
      "source": [
        "## 9. Palindrome Number\n"
      ],
      "metadata": {
        "id": "j6C6leQ4IB5S"
      }
    },
    {
      "cell_type": "markdown",
      "source": [
        "Given an integer x, return true if x is a \n",
        "palindrome, and false otherwise."
      ],
      "metadata": {
        "id": "aaVQjfTpIIvO"
      }
    },
    {
      "cell_type": "code",
      "source": [
        "def isPalindrome(x):\n",
        "    string = str(x)\n",
        "    size = len(string)\n",
        "    middle = int(size / 2)\n",
        "\n",
        "    for i in range(0, middle):\n",
        "        if string[i] != string[size-i-1]:\n",
        "            return False\n",
        "\n",
        "    return True"
      ],
      "metadata": {
        "id": "1-TK6Sv2IDE9"
      },
      "execution_count": 28,
      "outputs": []
    },
    {
      "cell_type": "code",
      "source": [
        "isPalindrome(121)"
      ],
      "metadata": {
        "colab": {
          "base_uri": "https://localhost:8080/"
        },
        "id": "VJmRN4gMIM1O",
        "outputId": "8b5bf46b-c942-47ac-8fae-4234eb162493"
      },
      "execution_count": 29,
      "outputs": [
        {
          "output_type": "execute_result",
          "data": {
            "text/plain": [
              "True"
            ]
          },
          "metadata": {},
          "execution_count": 29
        }
      ]
    },
    {
      "cell_type": "code",
      "source": [
        "isPalindrome(13)"
      ],
      "metadata": {
        "colab": {
          "base_uri": "https://localhost:8080/"
        },
        "id": "Nf56sGHtISsW",
        "outputId": "1b255056-1d1d-44e7-e298-054d9d3b258b"
      },
      "execution_count": 30,
      "outputs": [
        {
          "output_type": "execute_result",
          "data": {
            "text/plain": [
              "False"
            ]
          },
          "metadata": {},
          "execution_count": 30
        }
      ]
    },
    {
      "cell_type": "markdown",
      "source": [
        "## 13. Roman to Integer"
      ],
      "metadata": {
        "id": "oo-hK0yhPjZj"
      }
    },
    {
      "cell_type": "markdown",
      "source": [
        "Roman numerals are represented by seven different symbols: I, V, X, L, C, D and M.\n",
        "\n",
        "Symbol       Value\n",
        "\n",
        "I             1\n",
        "\n",
        "V             5\n",
        "\n",
        "X             10\n",
        "\n",
        "L             50\n",
        "\n",
        "C             100\n",
        "\n",
        "D             500\n",
        "\n",
        "M             1000\n",
        "\n",
        "For example, 2 is written as II in Roman numeral, just two ones added together. 12 is written as XII, which is simply X + II. The number 27 is written as XXVII, which is XX + V + II.\n",
        "\n",
        "Roman numerals are usually written largest to smallest from left to right. However, the numeral for four is not IIII. Instead, the number four is written as IV. Because the one is before the five we subtract it making four. The same principle applies to the number nine, which is written as IX. There are six instances where subtraction is used:\n",
        "\n",
        "I can be placed before V (5) and X (10) to make 4 and 9. \n",
        "X can be placed before L (50) and C (100) to make 40 and 90. \n",
        "C can be placed before D (500) and M (1000) to make 400 and 900.\n",
        "Given a roman numeral, convert it to an integer."
      ],
      "metadata": {
        "id": "OGiRFoJfR3AE"
      }
    },
    {
      "cell_type": "code",
      "source": [
        "def romanToInt(s):\n",
        "    roman_values = {\n",
        "        'I': 1,\n",
        "        'V': 5,\n",
        "        'X': 10,\n",
        "        'L': 50,\n",
        "        'C': 100,\n",
        "        'D': 500,\n",
        "        'M': 1000\n",
        "    }\n",
        "\n",
        "    size = len(s)\n",
        "    value = roman_values[s[size-1]]\n",
        "    last = value\n",
        "\n",
        "    for i in range(size-2, -1, -1):\n",
        "        current = roman_values[s[i]]\n",
        "\n",
        "        if current < last:\n",
        "            value -= current\n",
        "        else:\n",
        "            value += current\n",
        "\n",
        "        last = current\n",
        "\n",
        "    return value"
      ],
      "metadata": {
        "id": "yBEFc7x-UMXe"
      },
      "execution_count": null,
      "outputs": []
    },
    {
      "cell_type": "code",
      "source": [
        "romanToInt(\"III\")"
      ],
      "metadata": {
        "colab": {
          "base_uri": "https://localhost:8080/"
        },
        "id": "oxrFPQxAYLSr",
        "outputId": "bccedf04-f97d-4093-a06b-05fc311a7173"
      },
      "execution_count": null,
      "outputs": [
        {
          "output_type": "execute_result",
          "data": {
            "text/plain": [
              "3"
            ]
          },
          "metadata": {},
          "execution_count": 44
        }
      ]
    },
    {
      "cell_type": "code",
      "source": [
        "romanToInt(\"LVIII\")"
      ],
      "metadata": {
        "colab": {
          "base_uri": "https://localhost:8080/"
        },
        "id": "M6MNIBuqYgXp",
        "outputId": "db4a80cd-d2b3-4eec-88dc-1d1f804c1dd4"
      },
      "execution_count": null,
      "outputs": [
        {
          "output_type": "execute_result",
          "data": {
            "text/plain": [
              "58"
            ]
          },
          "metadata": {},
          "execution_count": 45
        }
      ]
    },
    {
      "cell_type": "code",
      "source": [
        "romanToInt(\"MCMXCIV\")"
      ],
      "metadata": {
        "colab": {
          "base_uri": "https://localhost:8080/"
        },
        "id": "4pDNx_CuYjeB",
        "outputId": "a4c6b7a6-038a-4d5e-d72c-d12c605c6eef"
      },
      "execution_count": null,
      "outputs": [
        {
          "output_type": "execute_result",
          "data": {
            "text/plain": [
              "1994"
            ]
          },
          "metadata": {},
          "execution_count": 46
        }
      ]
    },
    {
      "cell_type": "markdown",
      "source": [
        "## 14. Longest Common Prefix"
      ],
      "metadata": {
        "id": "kX82jf_dYoJI"
      }
    },
    {
      "cell_type": "markdown",
      "source": [
        "Write a function to find the longest common prefix string amongst an array of strings.\n",
        "\n",
        "If there is no common prefix, return an empty string \"\".\n",
        "\n",
        " \n",
        "\n",
        "Example 1:\n",
        "\n",
        "Input: strs = [\"flower\",\"flow\",\"flight\"]\n",
        "Output: \"fl\""
      ],
      "metadata": {
        "id": "IwFiY9MBZ4t4"
      }
    },
    {
      "cell_type": "code",
      "source": [
        "class TrieNode:\n",
        "  def __init__(self):\n",
        "    self.links = [None] *26\n",
        "    self.isEnd = False\n",
        "    self.size = 0\n",
        "\n",
        "  def containsKey(self, ch):\n",
        "    index = ord(ch) - ord('a')\n",
        "    return self.links[index] != None\n",
        "\n",
        "  def get(self, ch):\n",
        "    index = ord(ch) - ord('a')\n",
        "    return self.links[index]\n",
        "\n",
        "  def put(self, ch):\n",
        "    index = ord(ch) - ord('a')\n",
        "    self.links[index] = TrieNode()\n",
        "    self.size += 1\n",
        "\n",
        "  def getUniqueKey(self):\n",
        "    uniquePosition = [i for i in range(len(self.links)) if self.links[i] != None][0]\n",
        "    return chr(uniquePosition + ord('a')), self.links[uniquePosition]"
      ],
      "metadata": {
        "id": "7FWOaaDiYoqw"
      },
      "execution_count": null,
      "outputs": []
    },
    {
      "cell_type": "code",
      "source": [
        "class Trie:\n",
        "  def __init__(self):\n",
        "    self.root = TrieNode()\n",
        "\n",
        "  def insert(self, word):\n",
        "    node = self.root\n",
        "\n",
        "    size = len(word)\n",
        "    for i in range(0, size):\n",
        "      currentChar = word[i]\n",
        "      \n",
        "      if not node.containsKey(currentChar):\n",
        "        node.put(currentChar)\n",
        "\n",
        "      node = node.get(currentChar)\n",
        "\n",
        "    node.isEnd = True\n",
        "\n",
        "  def searchLongestPrefix(self):\n",
        "    node = self.root\n",
        "    prefix = ''\n",
        "    continua = True\n",
        "\n",
        "    while node != None and continua:\n",
        "      if node.size > 1 or node.isEnd:\n",
        "        continua = False\n",
        "      else:\n",
        "        uniqueKey, node = node.getUniqueKey()\n",
        "        prefix += uniqueKey\n",
        "    \n",
        "    return prefix"
      ],
      "metadata": {
        "id": "LSqVErtSkuHI"
      },
      "execution_count": null,
      "outputs": []
    },
    {
      "cell_type": "code",
      "source": [
        "def longestCommonPrefix(strs):\n",
        "  if len(strs) == 1:\n",
        "    return strs[0]\n",
        "\n",
        "  trie = Trie()\n",
        "\n",
        "  for string in strs:\n",
        "    if len(string) == 0:\n",
        "      return ''\n",
        "    trie.insert(string)\n",
        "\n",
        "  if trie.root.size != 1:\n",
        "    return ''\n",
        "  return trie.searchLongestPrefix()"
      ],
      "metadata": {
        "id": "ku8QmAtPrZgy"
      },
      "execution_count": null,
      "outputs": []
    },
    {
      "cell_type": "code",
      "source": [
        "longestCommonPrefix([\"flower\",\"flow\",\"flight\"])"
      ],
      "metadata": {
        "colab": {
          "base_uri": "https://localhost:8080/",
          "height": 36
        },
        "id": "Ni_lLi8_vWIv",
        "outputId": "5b2d033f-bb2e-4821-aa29-ea5a7fa41056"
      },
      "execution_count": null,
      "outputs": [
        {
          "output_type": "execute_result",
          "data": {
            "text/plain": [
              "'fl'"
            ],
            "application/vnd.google.colaboratory.intrinsic+json": {
              "type": "string"
            }
          },
          "metadata": {},
          "execution_count": 4
        }
      ]
    },
    {
      "cell_type": "code",
      "source": [
        "longestCommonPrefix([\"dog\",\"racecar\",\"car\"])"
      ],
      "metadata": {
        "colab": {
          "base_uri": "https://localhost:8080/",
          "height": 36
        },
        "id": "kjDDN3fq2dWa",
        "outputId": "ef5bfd32-21e1-4047-a544-aaa486e63ea9"
      },
      "execution_count": null,
      "outputs": [
        {
          "output_type": "execute_result",
          "data": {
            "text/plain": [
              "''"
            ],
            "application/vnd.google.colaboratory.intrinsic+json": {
              "type": "string"
            }
          },
          "metadata": {},
          "execution_count": 5
        }
      ]
    },
    {
      "cell_type": "code",
      "source": [
        "longestCommonPrefix([\"a\"])"
      ],
      "metadata": {
        "colab": {
          "base_uri": "https://localhost:8080/",
          "height": 36
        },
        "id": "IkdOJunn3mWn",
        "outputId": "0c440c66-08c2-4e10-abda-a438bb71f7bc"
      },
      "execution_count": null,
      "outputs": [
        {
          "output_type": "execute_result",
          "data": {
            "text/plain": [
              "'a'"
            ],
            "application/vnd.google.colaboratory.intrinsic+json": {
              "type": "string"
            }
          },
          "metadata": {},
          "execution_count": 6
        }
      ]
    },
    {
      "cell_type": "code",
      "source": [
        "longestCommonPrefix([\"\",\"b\"])"
      ],
      "metadata": {
        "colab": {
          "base_uri": "https://localhost:8080/",
          "height": 36
        },
        "id": "3NmCzY3U3p8F",
        "outputId": "c1578cd3-45c1-44b6-e0a0-91e30115c9cc"
      },
      "execution_count": null,
      "outputs": [
        {
          "output_type": "execute_result",
          "data": {
            "text/plain": [
              "''"
            ],
            "application/vnd.google.colaboratory.intrinsic+json": {
              "type": "string"
            }
          },
          "metadata": {},
          "execution_count": 7
        }
      ]
    },
    {
      "cell_type": "code",
      "source": [
        "longestCommonPrefix([\"ab\", \"a\"])"
      ],
      "metadata": {
        "colab": {
          "base_uri": "https://localhost:8080/",
          "height": 36
        },
        "id": "krbAXwfp9D3W",
        "outputId": "d30f3c17-ef5d-45e9-dcdb-e0a9201b08b6"
      },
      "execution_count": null,
      "outputs": [
        {
          "output_type": "execute_result",
          "data": {
            "text/plain": [
              "'a'"
            ],
            "application/vnd.google.colaboratory.intrinsic+json": {
              "type": "string"
            }
          },
          "metadata": {},
          "execution_count": 8
        }
      ]
    },
    {
      "cell_type": "code",
      "source": [
        "a = [\"flower\",\"flow\",\"flight\"]"
      ],
      "metadata": {
        "id": "W1chaJ86B5nj"
      },
      "execution_count": null,
      "outputs": []
    },
    {
      "cell_type": "markdown",
      "source": [
        "## 20. Valid Parentheses\n"
      ],
      "metadata": {
        "id": "o9e6Eoe6IXLP"
      }
    },
    {
      "cell_type": "markdown",
      "source": [
        "Given a string s containing just the characters '(', ')', '{', '}', '[' and ']', determine if the input string is valid.\n",
        "\n",
        "An input string is valid if:\n",
        "\n",
        "Open brackets must be closed by the same type of brackets.\n",
        "Open brackets must be closed in the correct order.\n",
        "Every close bracket has a corresponding open bracket of the same type."
      ],
      "metadata": {
        "id": "xDGqgUl3IZ6x"
      }
    },
    {
      "cell_type": "code",
      "source": [
        "def isValid(s):\n",
        "    stack = []\n",
        "\n",
        "    for item in s:\n",
        "        if item in '({[':\n",
        "            stack.append(item)\n",
        "        else: #item in ']})'\n",
        "            if len(stack) == 0:\n",
        "                return False\n",
        "            \n",
        "            top = stack.pop()\n",
        "\n",
        "            if (top == '(' and item != ')') or (top == '{' and item != '}') or (top == '[' and item != ']'):\n",
        "                return False\n",
        "    \n",
        "    if len(stack) != 0:\n",
        "        return False\n",
        "    return True"
      ],
      "metadata": {
        "id": "4nNhbqN2IcMj"
      },
      "execution_count": 31,
      "outputs": []
    },
    {
      "cell_type": "code",
      "source": [
        "isValid(\"()[]{}\")"
      ],
      "metadata": {
        "colab": {
          "base_uri": "https://localhost:8080/"
        },
        "id": "CItegHWEIgqn",
        "outputId": "2d2a0255-1881-4ff6-afbd-8e994690d970"
      },
      "execution_count": 32,
      "outputs": [
        {
          "output_type": "execute_result",
          "data": {
            "text/plain": [
              "True"
            ]
          },
          "metadata": {},
          "execution_count": 32
        }
      ]
    },
    {
      "cell_type": "code",
      "source": [
        "isValid(\"(]\")"
      ],
      "metadata": {
        "colab": {
          "base_uri": "https://localhost:8080/"
        },
        "id": "BG9RKz22IkE8",
        "outputId": "8b86ac59-0f78-40a0-d175-f3befe023826"
      },
      "execution_count": 33,
      "outputs": [
        {
          "output_type": "execute_result",
          "data": {
            "text/plain": [
              "False"
            ]
          },
          "metadata": {},
          "execution_count": 33
        }
      ]
    },
    {
      "cell_type": "markdown",
      "source": [
        "## 21. Merge Two Sorted Lists"
      ],
      "metadata": {
        "id": "ZWjbOfrNH_EM"
      }
    },
    {
      "cell_type": "markdown",
      "source": [
        "You are given the heads of two sorted linked lists list1 and list2.\n",
        "\n",
        "Merge the two lists in a one sorted list. The list should be made by splicing together the nodes of the first two lists.\n",
        "\n",
        "Return the head of the merged linked list."
      ],
      "metadata": {
        "id": "KuWwM83kPL9-"
      }
    },
    {
      "cell_type": "code",
      "source": [
        "class ListNode(object):\n",
        "    def __init__(self, val=0, next=None):\n",
        "        self.val = val\n",
        "        self.next = next"
      ],
      "metadata": {
        "id": "-TQTV6S5PSP6"
      },
      "execution_count": 19,
      "outputs": []
    },
    {
      "cell_type": "code",
      "source": [
        "def mergeTwoLists(list1, list2):\n",
        "    head = tracker = ListNode(-1)\n",
        "    while list1 and list2:\n",
        "        if list1.val < list2.val:\n",
        "            tracker.next = list1\n",
        "            list1 = list1.next\n",
        "        else:\n",
        "            tracker.next = list2\n",
        "            list2 = list2.next\n",
        "        tracker = tracker.next\n",
        "    tracker.next = list1 or list2\n",
        "    return head.next"
      ],
      "metadata": {
        "id": "YgqYe3uJOeQb"
      },
      "execution_count": null,
      "outputs": []
    },
    {
      "cell_type": "code",
      "source": [
        "list1 = ListNode(1, ListNode(2, ListNode(4, None)))\n",
        "list2 = ListNode(1, ListNode(3, ListNode(4, None)))\n",
        "\n",
        "pointer = mergeTwoLists(list1, list2)\n",
        "while pointer != None:\n",
        "  print(pointer.val, end=' ')\n",
        "  pointer = pointer.next"
      ],
      "metadata": {
        "colab": {
          "base_uri": "https://localhost:8080/"
        },
        "id": "y94NTP8SPwl4",
        "outputId": "f9ab6de0-061e-4f64-fc88-eeeb9a3a8b23"
      },
      "execution_count": null,
      "outputs": [
        {
          "output_type": "stream",
          "name": "stdout",
          "text": [
            "1 1 2 3 4 4 "
          ]
        }
      ]
    },
    {
      "cell_type": "markdown",
      "source": [
        "## 26. Remove Duplicates from Sorted Array"
      ],
      "metadata": {
        "id": "B0E3AlUAZ18f"
      }
    },
    {
      "cell_type": "code",
      "source": [
        "def removeDuplicates(nums):\n",
        "    size = len(nums)\n",
        "    insertIndex = 1\n",
        "    for i in range(1, size):\n",
        "        if nums[i - 1] != nums[i]:      \n",
        "            nums[insertIndex] = nums[i] \n",
        "            insertIndex = insertIndex + 1       \n",
        "    return insertIndex"
      ],
      "metadata": {
        "id": "IW4xF9ACYrBs"
      },
      "execution_count": null,
      "outputs": []
    },
    {
      "cell_type": "code",
      "source": [
        "array = [0,0,1,1,1,2,2,3,3,4]\n",
        "count = removeDuplicates(array)\n",
        "count"
      ],
      "metadata": {
        "colab": {
          "base_uri": "https://localhost:8080/"
        },
        "id": "WaZTsNNCdOEb",
        "outputId": "945e428a-0455-48a2-d9e6-2c331aa4b3cc"
      },
      "execution_count": null,
      "outputs": [
        {
          "output_type": "execute_result",
          "data": {
            "text/plain": [
              "5"
            ]
          },
          "metadata": {},
          "execution_count": 48
        }
      ]
    },
    {
      "cell_type": "code",
      "source": [
        "array"
      ],
      "metadata": {
        "colab": {
          "base_uri": "https://localhost:8080/"
        },
        "id": "t4VPUR51dQOB",
        "outputId": "1923b130-ee9d-4d77-8b69-689764d20759"
      },
      "execution_count": null,
      "outputs": [
        {
          "output_type": "execute_result",
          "data": {
            "text/plain": [
              "[0, 1, 2, 3, 4, 2, 2, 3, 3, 4]"
            ]
          },
          "metadata": {},
          "execution_count": 49
        }
      ]
    },
    {
      "cell_type": "code",
      "source": [
        "array[:count]"
      ],
      "metadata": {
        "colab": {
          "base_uri": "https://localhost:8080/"
        },
        "id": "vkvbrdVGdV2K",
        "outputId": "063fa610-7e57-4932-d918-2155cba597c9"
      },
      "execution_count": null,
      "outputs": [
        {
          "output_type": "execute_result",
          "data": {
            "text/plain": [
              "[0, 1, 2, 3, 4]"
            ]
          },
          "metadata": {},
          "execution_count": 50
        }
      ]
    },
    {
      "cell_type": "markdown",
      "source": [
        "## 27. Remove Element\n"
      ],
      "metadata": {
        "id": "oydQE6IWg0qX"
      }
    },
    {
      "cell_type": "code",
      "source": [
        "def removeElement(nums, val):\n",
        "    i = 0\n",
        "    size = len(nums)\n",
        "    for j in range(0, size):\n",
        "        if nums[j] != val:\n",
        "            nums[i] = nums[j]\n",
        "            i += 1\n",
        "    return i"
      ],
      "metadata": {
        "id": "Sf_akcsQg1Lz"
      },
      "execution_count": null,
      "outputs": []
    },
    {
      "cell_type": "code",
      "source": [
        "array = [0,1,2,2,3,0,4,2]\n",
        "count = removeElement(array, 2)\n",
        "count"
      ],
      "metadata": {
        "colab": {
          "base_uri": "https://localhost:8080/"
        },
        "id": "TSIXc-DPg7_P",
        "outputId": "88da59e2-b4a9-4b31-9138-5af28d98a34d"
      },
      "execution_count": null,
      "outputs": [
        {
          "output_type": "execute_result",
          "data": {
            "text/plain": [
              "5"
            ]
          },
          "metadata": {},
          "execution_count": 52
        }
      ]
    },
    {
      "cell_type": "code",
      "source": [
        "array"
      ],
      "metadata": {
        "colab": {
          "base_uri": "https://localhost:8080/"
        },
        "id": "MkZryWaKhBUb",
        "outputId": "b678a902-43b3-4b16-8f9f-665b467b8a79"
      },
      "execution_count": null,
      "outputs": [
        {
          "output_type": "execute_result",
          "data": {
            "text/plain": [
              "[0, 1, 3, 0, 4, 0, 4, 2]"
            ]
          },
          "metadata": {},
          "execution_count": 53
        }
      ]
    },
    {
      "cell_type": "code",
      "source": [
        "array[:count]"
      ],
      "metadata": {
        "colab": {
          "base_uri": "https://localhost:8080/"
        },
        "id": "LjYtSNyShCZr",
        "outputId": "93eae0e1-cdac-4744-fbaa-61d9d4456b39"
      },
      "execution_count": null,
      "outputs": [
        {
          "output_type": "execute_result",
          "data": {
            "text/plain": [
              "[0, 1, 3, 0, 4]"
            ]
          },
          "metadata": {},
          "execution_count": 54
        }
      ]
    },
    {
      "cell_type": "markdown",
      "source": [
        "## 32. Longest Valid Parentheses"
      ],
      "metadata": {
        "id": "_yArBECxXfT-"
      }
    },
    {
      "cell_type": "markdown",
      "source": [
        "Given a string containing just the characters '(' and ')', return the length of the longest valid (well-formed) parentheses \n",
        "substring."
      ],
      "metadata": {
        "id": "JT61refGXjyq"
      }
    },
    {
      "cell_type": "markdown",
      "source": [
        "Input: s = \")()())\"\n",
        "Output: 4\n",
        "Explanation: The longest valid parentheses substring is \"()()\"."
      ],
      "metadata": {
        "id": "yF-IvMr-XmpO"
      }
    },
    {
      "cell_type": "code",
      "source": [
        "def longestValidParentheses(s):\n",
        "    stack = [-1]\n",
        "    s_len = len(s)\n",
        "    count = 0\n",
        "\n",
        "    for i in range(s_len):\n",
        "        if s[i] == '(':\n",
        "            stack.append(i)\n",
        "        else:\n",
        "            stack.pop()\n",
        "            \n",
        "            if len(stack) == 0:\n",
        "                stack.append(i)\n",
        "            else:\n",
        "                count = max(count, i - stack[-1])\n",
        "                \n",
        "    return count"
      ],
      "metadata": {
        "id": "W_dgQD5EXhL6"
      },
      "execution_count": null,
      "outputs": []
    },
    {
      "cell_type": "code",
      "source": [
        "longestValidParentheses(\")()())\")"
      ],
      "metadata": {
        "colab": {
          "base_uri": "https://localhost:8080/"
        },
        "id": "KjdkhddLYkXr",
        "outputId": "639d730a-73f4-4dd9-ab63-94e57fd1cbcc"
      },
      "execution_count": null,
      "outputs": [
        {
          "output_type": "execute_result",
          "data": {
            "text/plain": [
              "4"
            ]
          },
          "metadata": {},
          "execution_count": 38
        }
      ]
    },
    {
      "cell_type": "code",
      "source": [
        "longestValidParentheses(\"(()\")"
      ],
      "metadata": {
        "colab": {
          "base_uri": "https://localhost:8080/"
        },
        "id": "QZ3x2uzLYmAY",
        "outputId": "829cd998-a9ca-42aa-d1d3-bc2c1fbeedaf"
      },
      "execution_count": null,
      "outputs": [
        {
          "output_type": "execute_result",
          "data": {
            "text/plain": [
              "2"
            ]
          },
          "metadata": {},
          "execution_count": 39
        }
      ]
    },
    {
      "cell_type": "markdown",
      "source": [
        "## 35. Search Insert Position\n"
      ],
      "metadata": {
        "id": "xP6A6bRijqor"
      }
    },
    {
      "cell_type": "markdown",
      "source": [
        "Given a sorted array of distinct integers and a target value, return the index if the target is found. If not, return the index where it would be if it were inserted in order.\n",
        "\n",
        "You must write an algorithm with O(log n) runtime complexity."
      ],
      "metadata": {
        "id": "shW3bHXrjsr7"
      }
    },
    {
      "cell_type": "code",
      "source": [
        "def searchInsert(nums, target):\n",
        "    start = 0\n",
        "    end = len(nums) - 1\n",
        "    \n",
        "    while start <= end:\n",
        "        middle = (start + end) // 2\n",
        "        if nums[middle] == target:\n",
        "            return middle\n",
        "        elif nums[middle] < target:\n",
        "            start = middle + 1\n",
        "        else:\n",
        "            end = middle - 1\n",
        "        \n",
        "    if nums[middle] > target:\n",
        "        return middle\n",
        "    else:\n",
        "        return middle + 1"
      ],
      "metadata": {
        "id": "NAVfbS-6hFX4"
      },
      "execution_count": null,
      "outputs": []
    },
    {
      "cell_type": "code",
      "source": [
        "searchInsert([1,3,5,6], 5)"
      ],
      "metadata": {
        "colab": {
          "base_uri": "https://localhost:8080/"
        },
        "id": "CfOvC2R7j_e6",
        "outputId": "77f1a64b-ccd2-4ee4-bf90-32a8dec78014"
      },
      "execution_count": null,
      "outputs": [
        {
          "output_type": "execute_result",
          "data": {
            "text/plain": [
              "2"
            ]
          },
          "metadata": {},
          "execution_count": 56
        }
      ]
    },
    {
      "cell_type": "code",
      "source": [
        "searchInsert([1,3,5,6], 2)"
      ],
      "metadata": {
        "colab": {
          "base_uri": "https://localhost:8080/"
        },
        "id": "jrfg1cP6kHhU",
        "outputId": "88e55929-881d-4a69-a340-fc2f4df1e79c"
      },
      "execution_count": null,
      "outputs": [
        {
          "output_type": "execute_result",
          "data": {
            "text/plain": [
              "1"
            ]
          },
          "metadata": {},
          "execution_count": 57
        }
      ]
    },
    {
      "cell_type": "code",
      "source": [
        "searchInsert([1,3,5,6], 7)"
      ],
      "metadata": {
        "colab": {
          "base_uri": "https://localhost:8080/"
        },
        "id": "eR0k0-dUkJaO",
        "outputId": "8bdb4635-21f5-48de-ba3b-4c8805426d5e"
      },
      "execution_count": null,
      "outputs": [
        {
          "output_type": "execute_result",
          "data": {
            "text/plain": [
              "4"
            ]
          },
          "metadata": {},
          "execution_count": 58
        }
      ]
    },
    {
      "cell_type": "markdown",
      "source": [
        "## 451. Sort Characters By Frequency"
      ],
      "metadata": {
        "id": "-1EhWBySHT2s"
      }
    },
    {
      "cell_type": "markdown",
      "source": [
        "Given a string s, sort it in decreasing order based on the frequency of the characters. The frequency of a character is the number of times it appears in the string.\n",
        "\n",
        "Return the sorted string. If there are multiple answers, return any of them."
      ],
      "metadata": {
        "id": "pcfdR13zPhM0"
      }
    },
    {
      "cell_type": "code",
      "source": [
        "def frequencySort(s):\n",
        "    frequency = {}\n",
        "    for char in s:\n",
        "        char_ord = ord(char)\n",
        "        if char_ord in frequency:\n",
        "            frequency[char_ord] += 1\n",
        "        else:\n",
        "            frequency[char_ord] = 1\n",
        "\n",
        "    frequency_sorted = sorted(frequency.items(), key = lambda x: (-x[1], x[0]))\n",
        "\n",
        "    out = ''\n",
        "    for (char_ord, frequency) in frequency_sorted:\n",
        "      out += chr(char_ord) * frequency\n",
        "\n",
        "    return out"
      ],
      "metadata": {
        "id": "qVRLm79tJGw7"
      },
      "execution_count": null,
      "outputs": []
    },
    {
      "cell_type": "code",
      "source": [
        "frequencySort('tree')"
      ],
      "metadata": {
        "colab": {
          "base_uri": "https://localhost:8080/",
          "height": 36
        },
        "id": "b74TSQE-L2_H",
        "outputId": "59bd3098-7aa8-4415-e240-5e39b9f67a88"
      },
      "execution_count": null,
      "outputs": [
        {
          "output_type": "execute_result",
          "data": {
            "text/plain": [
              "'eert'"
            ],
            "application/vnd.google.colaboratory.intrinsic+json": {
              "type": "string"
            }
          },
          "metadata": {},
          "execution_count": 39
        }
      ]
    },
    {
      "cell_type": "code",
      "source": [
        "frequencySort('cccaaa')"
      ],
      "metadata": {
        "colab": {
          "base_uri": "https://localhost:8080/",
          "height": 36
        },
        "id": "aQ2NTcsKL6f5",
        "outputId": "b3570b2c-57c6-41d1-93d6-7b74598fa36e"
      },
      "execution_count": null,
      "outputs": [
        {
          "output_type": "execute_result",
          "data": {
            "text/plain": [
              "'aaaccc'"
            ],
            "application/vnd.google.colaboratory.intrinsic+json": {
              "type": "string"
            }
          },
          "metadata": {},
          "execution_count": 27
        }
      ]
    },
    {
      "cell_type": "code",
      "source": [
        "frequencySort('Aabb')"
      ],
      "metadata": {
        "colab": {
          "base_uri": "https://localhost:8080/",
          "height": 36
        },
        "id": "lgrKp3qwLPcF",
        "outputId": "6870843d-715e-409b-f20e-9e0eb2385e4a"
      },
      "execution_count": null,
      "outputs": [
        {
          "output_type": "execute_result",
          "data": {
            "text/plain": [
              "'bbAa'"
            ],
            "application/vnd.google.colaboratory.intrinsic+json": {
              "type": "string"
            }
          },
          "metadata": {},
          "execution_count": 25
        }
      ]
    },
    {
      "cell_type": "markdown",
      "source": [
        "## 2256. Minimum Average Difference\n"
      ],
      "metadata": {
        "id": "rxY7l0PbkMl6"
      }
    },
    {
      "cell_type": "markdown",
      "source": [
        "You are given a 0-indexed integer array nums of length n.\n",
        "\n",
        "The average difference of the index i is the absolute difference between the average of the first i + 1 elements of nums and the average of the last n - i - 1 elements. Both averages should be rounded down to the nearest integer.\n",
        "\n",
        "Return the index with the minimum average difference. If there are multiple such indices, return the smallest one."
      ],
      "metadata": {
        "id": "GtzCPLLgGFqJ"
      }
    },
    {
      "cell_type": "code",
      "source": [
        "def minimumAverageDifference(nums):\n",
        "    min_average_difference = float('inf')\n",
        "    min_average_difference_index = -1\n",
        "\n",
        "    n = len(nums)\n",
        "\n",
        "    first_elements = 0\n",
        "    first_elements_size = 0\n",
        "    last_elements = sum(nums)\n",
        "    last_elements_size = n\n",
        "\n",
        "    for i in range(0, n):\n",
        "        first_elements += nums[i]\n",
        "        first_elements_size += 1\n",
        "        first_elements_average = 0 if first_elements_size == 0 else first_elements / first_elements_size\n",
        "\n",
        "        last_elements -= nums[i]\n",
        "        last_elements_size -= 1\n",
        "        last_elements_average = 0 if last_elements_size == 0 else last_elements / last_elements_size\n",
        "        \n",
        "        average_difference = abs(first_elements_average - last_elements_average)\n",
        "\n",
        "        if average_difference < min_average_difference:\n",
        "            min_average_difference_index = i\n",
        "            min_average_difference = average_difference\n",
        "\n",
        "    return min_average_difference_index          "
      ],
      "metadata": {
        "id": "AcQin3KWBcd-"
      },
      "execution_count": 15,
      "outputs": []
    },
    {
      "cell_type": "code",
      "source": [
        "minimumAverageDifference([2,5,3,9,5,3])"
      ],
      "metadata": {
        "colab": {
          "base_uri": "https://localhost:8080/"
        },
        "id": "lsACaenyB8ew",
        "outputId": "3a1d73f6-0ed0-4228-ced7-59238db1eda3"
      },
      "execution_count": 16,
      "outputs": [
        {
          "output_type": "execute_result",
          "data": {
            "text/plain": [
              "3"
            ]
          },
          "metadata": {},
          "execution_count": 16
        }
      ]
    }
  ]
}